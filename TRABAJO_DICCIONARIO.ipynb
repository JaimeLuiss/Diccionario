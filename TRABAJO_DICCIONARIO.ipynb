{
  "nbformat": 4,
  "nbformat_minor": 0,
  "metadata": {
    "colab": {
      "provenance": []
    },
    "kernelspec": {
      "name": "python3",
      "display_name": "Python 3"
    },
    "language_info": {
      "name": "python"
    }
  },
  "cells": [
    {
      "cell_type": "code",
      "execution_count": 2,
      "metadata": {
        "colab": {
          "base_uri": "https://localhost:8080/"
        },
        "id": "FfNw6uzCP5-C",
        "outputId": "e726f19f-c0c7-4967-c836-8d84e9941410"
      },
      "outputs": [
        {
          "output_type": "execute_result",
          "data": {
            "text/plain": [
              "{'Productos': ['Combo1',\n",
              "  'Combo2',\n",
              "  'Combo3',\n",
              "  'Combo4',\n",
              "  'Papas',\n",
              "  'Jugos Natuales',\n",
              "  'Cerveza',\n",
              "  'Agua',\n",
              "  'Gaseosa'],\n",
              " 'Valor': [2000, 25000, 18000, 24000, 3000, 7000, 3500, 4000, 2500],\n",
              " ('Productos', 'bebidas'): 'Tu pedido es '}"
            ]
          },
          "metadata": {},
          "execution_count": 2
        }
      ],
      "source": [
        "import pandas as pd\n",
        "negocio={\"Productos\":[\"Combo1\",\"Combo2\",\"Combo3\",\"Combo4\",\"Papas\",\"Jugos Natuales\",\"Cerveza\",\"Agua\",\"Gaseosa\",],\"Valor\":[2000,25000,18000,24000,3000,7000,3500,4000,2500]}\n",
        "\n",
        "pd.DataFrame.from_dict(negocio)\n",
        "\n",
        "negocio[\"Productos\", \"bebidas\"]=\"Tu pedido es \" \n",
        "negocio"
      ]
    },
    {
      "cell_type": "code",
      "source": [],
      "metadata": {
        "id": "8vD82lDsQGV_"
      },
      "execution_count": null,
      "outputs": []
    }
  ]
}